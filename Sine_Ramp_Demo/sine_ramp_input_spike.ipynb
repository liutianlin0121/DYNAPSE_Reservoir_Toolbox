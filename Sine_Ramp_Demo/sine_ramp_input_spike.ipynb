{
 "cells": [
  {
   "cell_type": "code",
   "execution_count": 1,
   "metadata": {
    "collapsed": true
   },
   "outputs": [],
   "source": [
    "import os\n",
    "os.chdir(\"/Users/liutianlin/Desktop/Academics/MINDS/neuromorphic\") # the root folder of dynapseReservoir and DYNAPSETools\n",
    "\n",
    "import numpy as np\n",
    "import matplotlib.pyplot as plt\n",
    "\n",
    "\n",
    "from dynapseReservoir.networks.inputsParameters import in_5_0_P\n",
    "from dynapseReservoir.networks.reservoirsParameters import generalNetP \n",
    "import DYNAPSETools.dynapseSpikesGenerator as DSG\n",
    "\n",
    "\n"
   ]
  },
  {
   "cell_type": "markdown",
   "metadata": {},
   "source": [
    "# Book keeping the neuron positions"
   ]
  },
  {
   "cell_type": "code",
   "execution_count": 2,
   "metadata": {},
   "outputs": [
    {
     "data": {
      "text/plain": [
       "900"
      ]
     },
     "execution_count": 2,
     "metadata": {},
     "output_type": "execute_result"
    }
   ],
   "source": [
    "in_5_0_P[\"isiBase\"]"
   ]
  },
  {
   "cell_type": "code",
   "execution_count": 3,
   "metadata": {
    "collapsed": true
   },
   "outputs": [],
   "source": [
    "np.random.seed(in_5_0_P[\"seed\"])\n",
    "\n",
    "plt.close(\"all\")\n",
    "\n",
    "#======================  Create events\n",
    "# The trigger event that marks the start of the experiment\n",
    "startTrigger = DSG.InputPattern(name = \"startTrigger\", isiBase = in_5_0_P[\"isiBase\"])\n",
    "U, C, N = generalNetP[\"inStartTriggerPos\"]   \n",
    "# In this case, U4C0N16, the source address in the .txt file should be 1039. This is because N16 => 10000, C0 =>00, U04 => 1111 , \n",
    "# and the decimal of 10000001111 is 1039.\n",
    "\n",
    "\n",
    "startTrigger.single_event(virtualSourceCoreId = C,\n",
    "                          neuronAddress = N,\n",
    "                          coreDest = in_5_0_P[\"coreDest\"], # (= 15, means to all cores 0,1,2,3)\n",
    "                         firePeriod = in_5_0_P[\"startDelay\"])  \n",
    "\n",
    "\n",
    "\n",
    "# First classification\n",
    "onesClassification = DSG.InputPattern(name = \"onesClassification\", isiBase = in_5_0_P[\"isiBase\"])\n",
    "U, C, N = generalNetP[\"inTargetEncodingPos\"]\n",
    "onesClassification.single_event(virtualSourceCoreId = C,\n",
    "                                neuronAddress = N,\n",
    "                                coreDest = in_5_0_P[\"coreDest\"],\n",
    "                                firePeriod = in_5_0_P[\"safeDelay\"])\n",
    "\n",
    "# In this case, U4C0N1, the source address in the .txt file should be 79. This is because N1 => 1, C0 =>00, U04 => 1111 , \n",
    "# and the decimal of 1001111 is 79."
   ]
  },
  {
   "cell_type": "code",
   "execution_count": 6,
   "metadata": {},
   "outputs": [
    {
     "data": {
      "text/plain": [
       "1"
      ]
     },
     "execution_count": 6,
     "metadata": {},
     "output_type": "execute_result"
    }
   ],
   "source": [
    "N"
   ]
  },
  {
   "cell_type": "code",
   "execution_count": 46,
   "metadata": {
    "collapsed": true
   },
   "outputs": [],
   "source": [
    "\n",
    "# Out neuron 2 classification\n",
    "twoClassification = DSG.InputPattern(name = \"twoClassification\", isiBase = in_5_0_P[\"isiBase\"])\n",
    "N = N + 1\n",
    "twoClassification.single_event(virtualSourceCoreId = C,\n",
    "                                neuronAddress = N,\n",
    "                                coreDest = in_5_0_P[\"coreDest\"],\n",
    "                                firePeriod = in_5_0_P[\"safeDelay\"])\n",
    "\n",
    "\n",
    "# The end of stimulus\n",
    "endStimulus = DSG.InputPattern(name = \"endStimulus\", isiBase = in_5_0_P[\"isiBase\"])\n",
    "U, C, N = generalNetP[\"inEndStimulusPos\"]\n",
    "endStimulus.single_event(virtualSourceCoreId = C,\n",
    "                         neuronAddress = N,\n",
    "                         coreDest = in_5_0_P[\"coreDest\"],\n",
    "                         firePeriod = in_5_0_P[\"safeDelay\"])\n",
    "\n",
    "# The end of the experiment\n",
    "stopTrigger = DSG.InputPattern(name = \"stopTrigger\", isiBase = in_5_0_P[\"isiBase\"])\n",
    "U, C, N = generalNetP[\"inStopTriggerPos\"]\n",
    "stopTrigger.single_event(virtualSourceCoreId = C,\n",
    "                         neuronAddress = N,\n",
    "                         coreDest = in_5_0_P[\"coreDest\"],\n",
    "                         firePeriod = in_5_0_P[\"stopDelay\"])\n"
   ]
  },
  {
   "cell_type": "markdown",
   "metadata": {},
   "source": [
    "# Creating input pattern: (1) RAMP+SINE and (2) SINE"
   ]
  },
  {
   "cell_type": "markdown",
   "metadata": {},
   "source": [
    "### The First Pattern: SINE + RAMP\n"
   ]
  },
  {
   "cell_type": "code",
   "execution_count": 47,
   "metadata": {},
   "outputs": [
    {
     "data": {
      "text/plain": [
       "[<matplotlib.lines.Line2D at 0x11135d320>]"
      ]
     },
     "execution_count": 47,
     "metadata": {},
     "output_type": "execute_result"
    },
    {
     "data": {
      "image/png": "[encoded data removed]",
      "text/plain": [
       "<matplotlib.figure.Figure at 0x1112c5d68>"
      ]
     },
     "metadata": {},
     "output_type": "display_data"
    }
   ],
   "source": [
    "signal1 = DSG.InputPattern(name = \"signal1\", isiBase = in_5_0_P[\"isiBase\"])\n",
    "\n",
    "# Create the RAMP part which lasts for 1 second\n",
    "tStart = tStop = 0\n",
    "tStop += in_5_0_P[\"sig1part2Duration\"]\n",
    "tSig1Part2 = np.linspace(tStart, tStop, int(in_5_0_P[\"sigSamples\"]))\n",
    "ySig1Part2 = np.square(tSig1Part2 - tStart)\n",
    "\n",
    "\n",
    "# Create the SINE signal part which lasts for 1 second\n",
    "tStart = tStop\n",
    "tStop += in_5_0_P[\"sig1part3Duration\"]\n",
    "tSig1Part3 = np.linspace(tStart, tStop, int(in_5_0_P[\"sigSamples\"]))\n",
    "ySig1Part3 = np.sin(2 * np.pi * in_5_0_P[\"sig1part3Freq\"] * (tSig1Part3 - tStart))\n",
    "\n",
    "# combine the ramp and the sine\n",
    "\n",
    "tSig1 = np.ndarray.flatten(np.array([tSig1Part2, tSig1Part3]))\n",
    "ySig1 = np.ndarray.flatten(np.array([ySig1Part2, ySig1Part3]))\n",
    "\n",
    "\n",
    "\n",
    "plt.plot(tSig1, ySig1)\n"
   ]
  },
  {
   "cell_type": "code",
   "execution_count": 48,
   "metadata": {
    "collapsed": true
   },
   "outputs": [],
   "source": [
    "\n",
    "U, C, N1 = generalNetP[\"inCH0\"]\n",
    "U, C, N2 = generalNetP[\"inCH1\"]\n",
    "signal1.threshold_encoder(virtualSourceCoreId = C,\n",
    "                          neuronAddressUpCH = N1,  \n",
    "                          neuronAddressDwCH = N2,  \n",
    "                          coreDest = in_5_0_P[\"coreDest\"],   \n",
    "                          threshold = in_5_0_P[\"sigThd\"],    \n",
    "                          t = tSig1,    \n",
    "                          y = ySig1,    \n",
    "                          noiseVar = in_5_0_P[\"sig1Jitter\"],      \n",
    "                          initDelay = in_5_0_P[\"sig1Delay\"])  "
   ]
  },
  {
   "cell_type": "code",
   "execution_count": 50,
   "metadata": {},
   "outputs": [
    {
     "data": {
      "text/plain": [
       "20"
      ]
     },
     "execution_count": 50,
     "metadata": {},
     "output_type": "execute_result"
    }
   ],
   "source": [
    "N1"
   ]
  },
  {
   "cell_type": "markdown",
   "metadata": {},
   "source": [
    "### The Second Pattern:  RAMP\n"
   ]
  },
  {
   "cell_type": "code",
   "execution_count": 7,
   "metadata": {},
   "outputs": [
    {
     "data": {
      "text/plain": [
       "[<matplotlib.lines.Line2D at 0x11521a2b0>]"
      ]
     },
     "execution_count": 7,
     "metadata": {},
     "output_type": "execute_result"
    },
    {
     "data": {
      "image/png": "[encoded data removed]",
      "text/plain": [
       "<matplotlib.figure.Figure at 0x1133309b0>"
      ]
     },
     "metadata": {},
     "output_type": "display_data"
    }
   ],
   "source": [
    "signal2 = DSG.InputPattern(name = \"signal2\", isiBase = in_5_0_P[\"isiBase\"])\n",
    "tSig2 = np.linspace(0, in_5_0_P[\"sig2Duration\"], int(in_5_0_P[\"sigSamples\"]))\n",
    "ySig2 = np.sin(2 * np.pi * in_5_0_P[\"sig2Freq\"] * tSig2)\n",
    "\n",
    "U, C, N1 = generalNetP[\"inCH0\"]\n",
    "U, C, N2 = generalNetP[\"inCH1\"]\n",
    "signal2.threshold_encoder(virtualSourceCoreId = C,\n",
    "                          neuronAddressUpCH = N1,\n",
    "                          neuronAddressDwCH = N2,\n",
    "                          coreDest = in_5_0_P[\"coreDest\"],\n",
    "                          threshold = in_5_0_P[\"sigThd\"],\n",
    "                          t = tSig2,\n",
    "                          y = ySig2,\n",
    "                          noiseVar = in_5_0_P[\"sig2Jitter\"],\n",
    "                          initDelay = in_5_0_P[\"sig2Delay\"])\n",
    "\n",
    "plt.plot(tSig2, ySig2)\n"
   ]
  },
  {
   "cell_type": "code",
   "execution_count": 11,
   "metadata": {},
   "outputs": [
    {
     "data": {
      "text/plain": [
       "0"
      ]
     },
     "execution_count": 11,
     "metadata": {},
     "output_type": "execute_result"
    }
   ],
   "source": [
    "C"
   ]
  },
  {
   "cell_type": "markdown",
   "metadata": {},
   "source": [
    "# Create Final Patterns"
   ]
  },
  {
   "cell_type": "code",
   "execution_count": 7,
   "metadata": {
    "collapsed": true
   },
   "outputs": [],
   "source": [
    "#======================  Create Final Patterns\n",
    "finalPattern = []\n",
    "\n",
    "\n",
    "# repeat the RAMP + SINE signal twice as a washout\n",
    "washoutPattern1 = signal1\n",
    "for i in np.arange(2):\n",
    "    finalPattern.append(washoutPattern1)\n",
    "    \n",
    "recordPattern1 = (startTrigger,\n",
    "                 onesClassification,\n",
    "                 signal1,\n",
    "                 endStimulus,\n",
    "                 stopTrigger)\n",
    "\n",
    "\n",
    "# repeat the  RAMP + SINE signal 3 times (will use this part for the classification)\n",
    "for i in np.arange(3):\n",
    "    finalPattern.extend(recordPattern1)\n",
    "\n",
    "    \n",
    "# repeat the SINE signal twice as a washout\n",
    "\n",
    "washoutPattern2 = signal2\n",
    "\n",
    "for i in np.arange(2):\n",
    "    finalPattern.append(washoutPattern2)\n",
    "    \n",
    "recordPattern2 = (startTrigger,\n",
    "                 twoClassification,\n",
    "                 signal2,\n",
    "                 endStimulus,\n",
    "                 stopTrigger)\n",
    "\n",
    "# repeat the  SINE signal 3 times (will use this part for the classification)\n",
    "for i in np.arange(3):\n",
    "    finalPattern.extend(recordPattern2)\n",
    "    \n",
    "    \n"
   ]
  },
  {
   "cell_type": "markdown",
   "metadata": {},
   "source": [
    "# Save and plot"
   ]
  },
  {
   "cell_type": "code",
   "execution_count": null,
   "metadata": {
    "collapsed": true
   },
   "outputs": [],
   "source": [
    "# ====================== Write events to output file in cAER folder\n",
    "fileName = \"/Users/liutianlin/Desktop/Academics/MINDS/neuromorphic/caer/myStimulus/inClassification.txt\"\n",
    "DSG.write_to_file(*finalPattern, fileName = fileName)\n",
    "\n",
    "\n",
    "fig, ax1, handles = DSG.plot_spikes(*recordPattern1)\n",
    "delay = in_5_0_P[\"startDelay\"] + in_5_0_P[\"safeDelay\"] + in_5_0_P[\"sig1Delay\"]\n",
    "handle = ax1.plot((np.linspace(0, in_5_0_P[\"sig2Duration\"], 2*int(in_5_0_P[\"sigSamples\"])) + delay)*1e6, np.array(list(ySig1)))\n",
    "\n",
    "\n",
    "fig, ax2, handles = DSG.plot_spikes(*recordPattern2)\n",
    "delay = in_5_0_P[\"startDelay\"] + in_5_0_P[\"safeDelay\"] + in_5_0_P[\"sig2Delay\"]\n",
    "handle = ax2.plot( (np.linspace(0, tSig2[-1], len(tSig2)) + delay)*1e6, np.array(list(ySig2)))\n",
    "\n",
    "\n",
    "\n"
   ]
  }
 ],
 "metadata": {
  "kernelspec": {
   "display_name": "Python 3",
   "language": "python",
   "name": "python3"
  },
  "language_info": {
   "codemirror_mode": {
    "name": "ipython",
    "version": 3
   },
   "file_extension": ".py",
   "mimetype": "text/x-python",
   "name": "python",
   "nbconvert_exporter": "python",
   "pygments_lexer": "ipython3",
   "version": "3.6.4"
  }
 },
 "nbformat": 4,
 "nbformat_minor": 2
}
