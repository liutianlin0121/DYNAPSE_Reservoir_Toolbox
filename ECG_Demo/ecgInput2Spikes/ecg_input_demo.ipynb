{
 "cells": [
  {
   "cell_type": "markdown",
   "metadata": {},
   "source": [
    "## Some preparation\n"
   ]
  },
  {
   "cell_type": "code",
   "execution_count": 1,
   "metadata": {
    "collapsed": true
   },
   "outputs": [],
   "source": [
    "\n",
    "import os\n",
    "os.chdir(\"/Users/liutianlin/Desktop/Academics/MINDS/neuromorphic\")\n",
    "\n",
    "import numpy as np\n",
    "import matplotlib.pyplot as plt\n",
    "from dynapseReservoir.networks.inputsParameters import in_5_0_P\n",
    "from dynapseReservoir.networks.reservoirsParameters import generalNetP \n",
    "import DYNAPSETools.dynapseSpikesGenerator as DSG\n",
    "\n",
    "\n",
    "# fix a random seed\n",
    "np.random.seed(in_5_0_P[\"seed\"]) \n",
    "\n",
    "plt.close(\"all\")"
   ]
  },
  {
   "cell_type": "markdown",
   "metadata": {},
   "source": [
    "###  Create some types of helper events.\n",
    "\n",
    "These helper events are not related to input spikes themselves. They are defined here to help us bookkeeping the experiment procedure. When doing analysis on collected spikes later, these events help us identify which portion of the collected spikes are the responses of the input spikes. \n",
    "\n",
    "We needs 5 types of helper events for the pulse experiment. \n",
    "\n",
    "(1) startTrigger: a spike that marks the start time of the experiment \n",
    "\n",
    "(2) startStimulus: a spike (slightly later than \"startTrigger\" in time), which marks the starting time of stimulus.\n",
    "\n",
    "(3) startPseudoStimulus: a single spike that marks the starting time of \"pseudo stimulus\", i.e., the stimulus whosereceiver is not connected to the reservoir. pseudo stimulus help us prelong the collecting time after the train of \"real\" spikes has ended. \n",
    "\n",
    "(4) endStimulus: a spike that marks the end of stimulus\n",
    "\n",
    "(5) stopTrigger: a spike that marks the end of the experiment\n"
   ]
  },
  {
   "cell_type": "code",
   "execution_count": 2,
   "metadata": {
    "collapsed": true
   },
   "outputs": [],
   "source": [
    "# This event indicates the starting time for the experiment\n",
    "startTrigger = DSG.InputPattern(name = \"startTrigger\", isiBase = in_5_0_P[\"isiBase\"])\n",
    "U, C, N = generalNetP[\"inStartTriggerPos\"]\n",
    "startTrigger.single_event(virtualSourceCoreId = C,\n",
    "                          neuronAddress = N,\n",
    "                          coreDest = in_5_0_P[\"coreDest\"],\n",
    "                          firePeriod = in_5_0_P[\"startDelay\"])\n",
    "\n",
    "# This event indicates the starting time for inputing stimuli\n",
    "startStimulus = DSG.InputPattern(name = \"startStimulus\", isiBase = in_5_0_P[\"isiBase\"])\n",
    "U, C, N = generalNetP[\"inTargetEncodingPos\"]\n",
    "startStimulus.single_event(virtualSourceCoreId = C,\n",
    "                                neuronAddress = N,\n",
    "                                coreDest = in_5_0_P[\"coreDest\"],\n",
    "                                firePeriod = in_5_0_P[\"safeDelay\"]) \n",
    "\n",
    "\n",
    "# the stop of stimulus\n",
    "endStimulus = DSG.InputPattern(name = \"endStimulus\", isiBase = in_5_0_P[\"isiBase\"])\n",
    "U, C, N = generalNetP[\"inEndStimulusPos\"]\n",
    "endStimulus.single_event(virtualSourceCoreId = C,\n",
    "                         neuronAddress = N,\n",
    "                         coreDest = in_5_0_P[\"coreDest\"],\n",
    "                         firePeriod = in_5_0_P[\"safeDelay\"]) # note: keep collecting the spikes for 0.5 second after the last input stimuli\n",
    "\n",
    "# the stop of experiment\n",
    "stopTrigger = DSG.InputPattern(name = \"stopTrigger\", isiBase = in_5_0_P[\"isiBase\"])\n",
    "U, C, N = generalNetP[\"inStopTriggerPos\"]\n",
    "stopTrigger.single_event(virtualSourceCoreId = C,\n",
    "                         neuronAddress = N,\n",
    "                         coreDest = in_5_0_P[\"coreDest\"],\n",
    "                         firePeriod = in_5_0_P[\"stopDelay\"])\n",
    "\n",
    "\n",
    "\n",
    "\n"
   ]
  },
  {
   "cell_type": "markdown",
   "metadata": {},
   "source": [
    "###  Create some the events of input stimulus\n",
    "\n",
    "We first write input signals as continuous singal, and convert the continuous signal into spikes\n"
   ]
  },
  {
   "cell_type": "code",
   "execution_count": 3,
   "metadata": {
    "collapsed": true
   },
   "outputs": [],
   "source": [
    "ecg_event = DSG.InputPattern(name = \"ecg_event\", isiBase = in_5_0_P[\"isiBase\"])\n",
    "\n",
    "##### the continuous signal (a slope y = 5 \\times t) for the pulse part\n",
    "\n",
    "# f = open('/Users/liutianlin/Desktop/Academics/MATLAB/ECG_bluebox/train_ecgInputContinuous.txt','r')\n",
    "f = open('/Users/liutianlin/Desktop/Academics/MATLAB/ECG_bluebox/15min_ecgInputContinuous.txt','r')\n",
    "\n",
    "ecgTimeSeries_y = []\n",
    "for line in f.readlines():\n",
    "    ecgTimeSeries_y.append(float(line.replace('\\n','')))\n",
    "\n",
    "ecgTimeSeries_y = np.array(ecgTimeSeries_y)\n",
    "\n",
    "tStart = 0\n",
    "\n",
    "minues = 15\n",
    "tStop = minues * 60\n",
    "ecgTimeSeries_t = np.linspace(tStart, tStop, len(ecgTimeSeries_y))\n",
    "\n",
    "\n",
    "#### encode the continuous signal into pulse + no pulse\n",
    "U, C, N1 = generalNetP[\"inCH0\"]\n",
    "U, C, N2 = generalNetP[\"inCH1\"]\n",
    "\n"
   ]
  },
  {
   "cell_type": "code",
   "execution_count": 4,
   "metadata": {
    "collapsed": true
   },
   "outputs": [],
   "source": [
    "myThres = 0.1\n",
    "ecg_event.threshold_encoder(virtualSourceCoreId = C,\n",
    "                          neuronAddressUpCH = N1,  \n",
    "                          neuronAddressDwCH = N2,  \n",
    "                          coreDest = in_5_0_P[\"coreDest\"],   \n",
    "                          threshold = myThres,    \n",
    "                          t = ecgTimeSeries_t,    \n",
    "                          y = ecgTimeSeries_y,    \n",
    "                          noiseVar = in_5_0_P[\"sig1Jitter\"],      \n",
    "                          initDelay = in_5_0_P[\"sig1Delay\"])  "
   ]
  },
  {
   "cell_type": "markdown",
   "metadata": {},
   "source": [
    "# Fake spikes"
   ]
  },
  {
   "cell_type": "code",
   "execution_count": 5,
   "metadata": {
    "collapsed": true
   },
   "outputs": [],
   "source": [
    "signal2 = DSG.InputPattern(name = \"signal2\", isiBase = in_5_0_P[\"isiBase\"])\n",
    "\n",
    "tSig2 = np.linspace(tStart, tStop, len(ecgTimeSeries_y)) \n",
    "ySig2 =  tSig2\n",
    "\n",
    "\n",
    "U, C, N3 = generalNetP[\"inCH3\"] # U04C00N24\n",
    "U, C, N4 = generalNetP[\"inCH4\"] # U04C00N24\n",
    "\n",
    "signal2.threshold_encoder(virtualSourceCoreId = C,\n",
    "                          neuronAddressUpCH = N3,\n",
    "                          neuronAddressDwCH = N4,\n",
    "                          coreDest = in_5_0_P[\"coreDest\"],\n",
    "                          threshold = 0.1,\n",
    "                          t = tSig2,\n",
    "                          y = ySig2,\n",
    "                          noiseVar = in_5_0_P[\"sig2Jitter\"],\n",
    "                          initDelay = in_5_0_P[\"sig2Delay\"])\n"
   ]
  },
  {
   "cell_type": "code",
   "execution_count": 6,
   "metadata": {
    "collapsed": true
   },
   "outputs": [],
   "source": [
    "listOfPatterns = [ecg_event, signal2]\n",
    "# listOfPatterns = [signal2]\n"
   ]
  },
  {
   "cell_type": "code",
   "execution_count": 7,
   "metadata": {
    "collapsed": true
   },
   "outputs": [],
   "source": [
    "tupleList = []\n",
    "\n",
    "for pattern in listOfPatterns:\n",
    "    prevTime = 0\n",
    "    patternTuple = []\n",
    "    for event in pattern.eventList:\n",
    "        patternTuple.append([event.virtualSourceCoreId, event.neuronAddress, event.coreDest, event.time + prevTime])\n",
    "        prevTime += event.time\n",
    "    tupleList.extend(patternTuple)   \n",
    "\n",
    "tupleList.sort(key=lambda myList: myList[3]) # sort based on absolute time     \n",
    "\n",
    "\n",
    "diffList = [0]*len(tupleList)\n",
    "diffList[0] = tupleList[0][3]\n",
    "for i in np.arange(1, len(tupleList)):\n",
    "    diff = tupleList[i][3] - tupleList[i-1][3]\n",
    "    if diff <= 10:\n",
    "        diff = 10\n",
    "    diffList[i] = diff # convert absolute time back to relative time\n",
    "\n",
    "mergedPattern = DSG.InputPattern(name = \"mergedPattern\", isiBase = in_5_0_P[\"isiBase\"])\n",
    "\n",
    "for i in np.arange(len(tupleList)):\n",
    "    virtualSourceCoreId = tupleList[i][0]\n",
    "    neuronAddress = tupleList[i][1]\n",
    "    coreDest = tupleList[i][2]\n",
    "    time = diffList[i]/ 1e5 # change back to second\n",
    "    mergedPattern.single_event(virtualSourceCoreId, neuronAddress, coreDest, firePeriod = time)\n"
   ]
  },
  {
   "cell_type": "markdown",
   "metadata": {},
   "source": [
    "### Finally, Put all events togeter!"
   ]
  },
  {
   "cell_type": "code",
   "execution_count": 8,
   "metadata": {
    "collapsed": true
   },
   "outputs": [],
   "source": [
    "finalPattern = [startTrigger,\n",
    "                  startStimulus,\n",
    "                  mergedPattern,\n",
    "                  endStimulus,\n",
    "                  stopTrigger]\n"
   ]
  },
  {
   "cell_type": "code",
   "execution_count": 9,
   "metadata": {},
   "outputs": [
    {
     "name": "stdout",
     "output_type": "stream",
     "text": [
      "Checking and writing pattern startTrigger\n",
      "Current pattern lenght is 1\n",
      "Cumulative pattern lenght is 1. Remaining 32766 events\n",
      "Pattern startTrigger succesfully written\n",
      "\n",
      "Checking and writing pattern startStimulus\n",
      "Current pattern lenght is 1\n",
      "Cumulative pattern lenght is 2. Remaining 32765 events\n",
      "Pattern startStimulus succesfully written\n",
      "\n",
      "Checking and writing pattern mergedPattern\n",
      "Current pattern lenght is 17117\n",
      "Cumulative pattern lenght is 17119. Remaining 15648 events\n",
      "Pattern mergedPattern succesfully written\n",
      "\n",
      "Checking and writing pattern endStimulus\n",
      "Current pattern lenght is 1\n",
      "Cumulative pattern lenght is 17120. Remaining 15647 events\n",
      "Pattern endStimulus succesfully written\n",
      "\n",
      "Checking and writing pattern stopTrigger\n",
      "Current pattern lenght is 1\n",
      "Cumulative pattern lenght is 17121. Remaining 15646 events\n",
      "Pattern stopTrigger succesfully written\n",
      "\n"
     ]
    }
   ],
   "source": [
    "# ====================== Write events to output file in cAER folder\n",
    "\n",
    "# the output file that reford the spikes\n",
    "# fileName = \"/Users/liutianlin/Desktop/Academics/MINDS/neuromorphic/caer/myStimulus/train_ecgInputContinuous_in_ecg.txt\"\n",
    "# fileName = \"/Users/liutianlin/Desktop/Academics/MINDS/neuromorphic/caer/myStimulus/test_ecgInputContinuous_in_ecg.txt\"\n",
    "# fileName = \"/Users/liutianlin/Desktop/Academics/MINDS/neuromorphic/caer/myStimulus/train_ecg_in.txt\"\n",
    "fileName = \"/Users/liutianlin/Desktop/Academics/MINDS/neuromorphic/caer/myStimulus/15min_ecg_in.txt\"\n",
    "\n",
    "\n",
    "# DSG.write_to_file(*finalPattern, fileName = fileName)\n",
    "DSG.write_to_file(*finalPattern, fileName = fileName)\n",
    "\n",
    "# DSG.write_to_file(*[startTrigger, startStimulus, signal2, endStimulus, stopTrigger], fileName = fileName)\n"
   ]
  },
  {
   "cell_type": "code",
   "execution_count": null,
   "metadata": {
    "collapsed": true
   },
   "outputs": [],
   "source": []
  }
 ],
 "metadata": {
  "kernelspec": {
   "display_name": "Python 3",
   "language": "python",
   "name": "python3"
  },
  "language_info": {
   "codemirror_mode": {
    "name": "ipython",
    "version": 3
   },
   "file_extension": ".py",
   "mimetype": "text/x-python",
   "name": "python",
   "nbconvert_exporter": "python",
   "pygments_lexer": "ipython3",
   "version": "3.6.4"
  }
 },
 "nbformat": 4,
 "nbformat_minor": 2
}
