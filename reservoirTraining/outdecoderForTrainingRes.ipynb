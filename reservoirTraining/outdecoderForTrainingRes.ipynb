{
 "cells": [
  {
   "cell_type": "code",
   "execution_count": 1,
   "metadata": {
    "collapsed": true
   },
   "outputs": [],
   "source": [
    "\"\"\"Take output events from .aedat files and creates datasets for testing\n",
    "\"\"\"\n",
    "\n",
    "import os\n",
    "os.chdir(\"/Users/liutianlin/Desktop/Academics/MINDS/neuromorphic\")\n",
    "\n",
    "import numpy as np\n",
    "from matplotlib import pyplot as plt\n",
    "import h5py\n",
    "\n",
    "from dynapseReservoir.networks.dynapseParameters import dynapseStructure\n",
    "from dynapseReservoir.networks.reservoirsParameters import generalNetP, r64_1_1_P\n",
    "from dynapseReservoir.networks.outputParameters import generalOutP\n",
    "import DYNAPSETools.dynapseOutDecoder as DOD\n",
    "\n",
    "\n",
    "plt.close(\"all\")\n",
    "\n",
    "\n",
    "folderName = \"/Users/liutianlin/Desktop/Academics/MINDS/neuromorphic/caer/myoutputs/spikeForTrain/\"\n",
    "collectedSpikesAddress = '/Users/liutianlin/Desktop/Academics/MINDS/neuromorphic/reservoir_Demo/reservoirTraining/collectedSpikes/'\n"
   ]
  },
  {
   "cell_type": "code",
   "execution_count": null,
   "metadata": {},
   "outputs": [
    {
     "name": "stdout",
     "output_type": "stream",
     "text": [
      "core 1 part 1 neuron from  0 to 63\n",
      "Read all data\n",
      "\n",
      "Extracted 1 experiments\n",
      "core 1 part 2 neuron from  64 to 127\n",
      "Read all data\n",
      "\n",
      "Extracted 1 experiments\n",
      "core 1 part 3 neuron from  128 to 191\n",
      "Read all data\n",
      "\n",
      "Extracted 1 experiments\n",
      "core 1 part 4 neuron from  192 to 255\n",
      "Read all data\n",
      "\n",
      "Extracted 1 experiments\n",
      "core 2 part 1 neuron from  0 to 63\n",
      "Read all data\n",
      "\n",
      "Extracted 1 experiments\n"
     ]
    }
   ],
   "source": [
    "# ====================== Import .AEDAT file\n",
    "\n",
    "%matplotlib tk\n",
    "\n",
    "allTs = []\n",
    "allCoreID = []\n",
    "allNeuronID = []\n",
    "\n",
    "for core in [1, 2, 3]:\n",
    "# for core in [1]:\n",
    "\n",
    "    for part in [1,2,3,4]:\n",
    "#     for part in [1]:\n",
    "        \n",
    "        print('core', core, 'part', part, 'neuron from ',(part-1)*64, 'to', part*64-1 )\n",
    "\n",
    "        neuronInThisPart = np.arange((part-1)*64, (part)*64)\n",
    "        \n",
    "        aedatName = 'core' + str(core) +'_' + 'part' + str(part)\n",
    "        \n",
    "        fileName = folderName + aedatName + '.aedat'\n",
    "        decEvents = DOD.import_events(fileName)\n",
    "        decEvents = decEvents.normalize()\n",
    "        # decEvents.plot_events()\n",
    "\n",
    "        # ====================== Define Filter events Core 0\n",
    "        filterCore0 = []\n",
    "        # size = generalNetP[\"sizeTargetEncoding\"] # WHAT IS sizeTargetEncoding??\n",
    "        # U0, C0, N = generalNetP[\"targetEncodingPos\"]\n",
    "        # targetNeurons = [x for x in range(N, size + N)]\n",
    "        # filterCore0 += targetNeurons\n",
    "\n",
    "        # Filter events taking only events that are important for elaboration\n",
    "        U0, C0, N1 = generalNetP[\"startTriggerPos\"]\n",
    "        U0, C0, N2 = generalNetP[\"stopTriggerPos\"]\n",
    "        # U0, C0, N3 = generalNetP[\"endStimulusPos\"]\n",
    "        # filterCore0 += [N1, N2, N3]\n",
    "        filterCore0 += [N1, N2]\n",
    "\n",
    "        # ====================== Define Filter events Core 1\n",
    "        #%%\n",
    "        size = r64_1_1_P[\"N_Res\"]\n",
    "        U0, C1, N = generalNetP[\"reservoirStartPos\"]\n",
    "        filterCore1 = [x for x in range(N, size + N)]\n",
    "        filterCore2 = [x for x in range(N, size + N)]\n",
    "        filterCore3 = [x for x in range(N, size + N)]\n",
    "\n",
    "        #%%\n",
    "\n",
    "        # ====================== Apply filter\n",
    "        neuron_id_filter = [filterCore0, filterCore1,filterCore2,filterCore3]\n",
    "\n",
    "\n",
    "        C2 = 2\n",
    "        C3 = 3\n",
    "\n",
    "        decFilteredEvents = decEvents.filter_events(chip_id = U0, core_id = [C0,C1,C2,C3], neuron_id = neuron_id_filter) # Take only events i need\n",
    "        # decFilteredEvents.plot_events()\n",
    "\n",
    "\n",
    "\n",
    "\n",
    "\n",
    "        # ====================== Extract experiments\n",
    "        extractedEvents = decFilteredEvents.isolate_events_sets(startTriggerNeuron = generalNetP[\"startTriggerPos\"],\n",
    "                                                                stopTriggerNeuron = generalNetP[\"stopTriggerPos\"],\n",
    "                                                                maxNumber = None)\n",
    "\n",
    "        experiment = extractedEvents[0]\n",
    "\n",
    "        experiment.plot_events()\n",
    "\n",
    "        'core' + str(core) +'_' + 'part' + str(part)\n",
    "        \n",
    "        relevantNeuronIndices = list(np.where(np.logical_and(experiment.neuron_id.astype(int) >= np.min(neuronInThisPart), experiment.neuron_id.astype(int) <= np.max(neuronInThisPart)))[0])\n",
    "        \n",
    "        relevantNeuronCoreIndices = list(np.where(experiment.core_id.astype(int) == core)[0])\n",
    "        \n",
    "        relevantIndices = list(set(relevantNeuronCoreIndices).intersection(relevantNeuronIndices))\n",
    "        relevantIndices.sort()\n",
    "                               \n",
    "                               \n",
    "        relevantCoreID = np.array([experiment.core_id[index] for index in relevantIndices  ])\n",
    "        relevantNeuronID =  np.array([experiment.neuron_id[index] for index in relevantIndices  ])\n",
    "        relevantTS =  np.array([experiment.ts[index] for index in relevantIndices  ])\n",
    "        \n",
    "        relevantTS\n",
    "        \n",
    "        allCoreID.extend(relevantCoreID)                       \n",
    "        allNeuronID.extend(relevantNeuronID)                       \n",
    "        allTs.extend(relevantTS - relevantTS[0])                       \n"
   ]
  },
  {
   "cell_type": "code",
   "execution_count": 4,
   "metadata": {
    "collapsed": true
   },
   "outputs": [],
   "source": [
    "np.savetxt(collectedSpikesAddress + 'collected_core_id.txt', allCoreID, fmt='%i')\n",
    "np.savetxt(collectedSpikesAddress + 'collected_neuron_id.txt', allNeuronID, fmt='%i')\n",
    "np.savetxt(collectedSpikesAddress + 'collected_ts.txt', allTs, fmt='%i')    \n"
   ]
  },
  {
   "cell_type": "code",
   "execution_count": 73,
   "metadata": {},
   "outputs": [
    {
     "data": {
      "text/plain": [
       "192"
      ]
     },
     "execution_count": 73,
     "metadata": {},
     "output_type": "execute_result"
    }
   ],
   "source": [
    "np.min(neuronInThisPart)"
   ]
  },
  {
   "cell_type": "code",
   "execution_count": 3,
   "metadata": {},
   "outputs": [
    {
     "data": {
      "text/plain": [
       "array([ 4487461,  4487643,  4488135, ..., 35110320, 35110351, 35110521])"
      ]
     },
     "execution_count": 3,
     "metadata": {},
     "output_type": "execute_result"
    }
   ],
   "source": [
    "experiment.ts"
   ]
  },
  {
   "cell_type": "code",
   "execution_count": 4,
   "metadata": {},
   "outputs": [
    {
     "data": {
      "text/plain": [
       "35.110521"
      ]
     },
     "execution_count": 4,
     "metadata": {},
     "output_type": "execute_result"
    }
   ],
   "source": [
    "35110521/1e6"
   ]
  },
  {
   "cell_type": "code",
   "execution_count": null,
   "metadata": {
    "collapsed": true
   },
   "outputs": [],
   "source": []
  }
 ],
 "metadata": {
  "kernelspec": {
   "display_name": "Python 3",
   "language": "python",
   "name": "python3"
  },
  "language_info": {
   "codemirror_mode": {
    "name": "ipython",
    "version": 3
   },
   "file_extension": ".py",
   "mimetype": "text/x-python",
   "name": "python",
   "nbconvert_exporter": "python",
   "pygments_lexer": "ipython3",
   "version": "3.6.4"
  }
 },
 "nbformat": 4,
 "nbformat_minor": 2
}
