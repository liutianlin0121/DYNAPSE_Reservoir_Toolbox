{
 "cells": [
  {
   "cell_type": "code",
   "execution_count": 1,
   "metadata": {
    "collapsed": true
   },
   "outputs": [],
   "source": [
    "import os\n",
    "os.chdir(\"/Users/liutianlin/Desktop/Academics/MINDS/neuromorphic\")\n",
    "\n",
    "import numpy as np\n",
    "import matplotlib.pyplot as plt\n",
    "from dynapseReservoir.networks.inputsParameters import in_5_0_P\n",
    "from dynapseReservoir.networks.reservoirsParameters import generalNetP \n",
    "import DYNAPSETools.dynapseSpikesGenerator as DSG\n",
    "\n",
    "\n",
    "# fix a random seed\n",
    "np.random.seed(in_5_0_P[\"seed\"]) \n",
    "\n",
    "plt.close(\"all\")"
   ]
  },
  {
   "cell_type": "code",
   "execution_count": 2,
   "metadata": {
    "collapsed": true
   },
   "outputs": [],
   "source": [
    "# This event indicates the starting time for the experiment\n",
    "startTrigger = DSG.InputPattern(name = \"startTrigger\", isiBase = in_5_0_P[\"isiBase\"])\n",
    "U, C, N = generalNetP[\"inStartTriggerPos\"]\n",
    "startTrigger.single_event(virtualSourceCoreId = C,\n",
    "                          neuronAddress = N,\n",
    "                          coreDest = in_5_0_P[\"coreDest\"],\n",
    "                          firePeriod = in_5_0_P[\"startDelay\"])\n",
    "\n",
    "\n",
    "# the stop of experiment\n",
    "stopTrigger = DSG.InputPattern(name = \"stopTrigger\", isiBase = in_5_0_P[\"isiBase\"])\n",
    "U, C, N = generalNetP[\"inStopTriggerPos\"]\n",
    "stopTrigger.single_event(virtualSourceCoreId = C,\n",
    "                         neuronAddress = N,\n",
    "                         coreDest = in_5_0_P[\"coreDest\"],\n",
    "                         firePeriod = in_5_0_P[\"stopDelay\"])\n",
    "\n",
    "\n"
   ]
  },
  {
   "cell_type": "markdown",
   "metadata": {},
   "source": [
    "###  Load in the input\n",
    "\n",
    "We first write input signals as continuous singal, and convert the continuous signal into spikes\n"
   ]
  },
  {
   "cell_type": "code",
   "execution_count": 3,
   "metadata": {
    "collapsed": true
   },
   "outputs": [],
   "source": [
    "inputMat = np.loadtxt('/Users/liutianlin/Desktop/Academics/MINDS/neuromorphic/reservoir_Demo/reservoirTraining/dynapse_input.txt')"
   ]
  },
  {
   "cell_type": "code",
   "execution_count": 4,
   "metadata": {},
   "outputs": [
    {
     "name": "stdout",
     "output_type": "stream",
     "text": [
      "core 1\n",
      "part 1\n",
      "encoding the neuron nr  0 to 63\n",
      "Checking and writing pattern startTrigger\n",
      "Current pattern lenght is 1\n",
      "Cumulative pattern lenght is 1. Remaining 32766 events\n",
      "Pattern startTrigger succesfully written\n",
      "\n",
      "Checking and writing pattern mergedPattern\n",
      "Current pattern lenght is 23757\n",
      "Cumulative pattern lenght is 23758. Remaining 9009 events\n",
      "Pattern mergedPattern succesfully written\n",
      "\n",
      "Checking and writing pattern stopTrigger\n",
      "Current pattern lenght is 1\n",
      "Cumulative pattern lenght is 23759. Remaining 9008 events\n",
      "Pattern stopTrigger succesfully written\n",
      "\n",
      "part 2\n",
      "encoding the neuron nr  64 to 127\n",
      "Checking and writing pattern startTrigger\n",
      "Current pattern lenght is 1\n",
      "Cumulative pattern lenght is 1. Remaining 32766 events\n",
      "Pattern startTrigger succesfully written\n",
      "\n",
      "Checking and writing pattern mergedPattern\n",
      "Current pattern lenght is 28184\n",
      "Cumulative pattern lenght is 28185. Remaining 4582 events\n",
      "Pattern mergedPattern succesfully written\n",
      "\n",
      "Checking and writing pattern stopTrigger\n",
      "Current pattern lenght is 1\n",
      "Cumulative pattern lenght is 28186. Remaining 4581 events\n",
      "Pattern stopTrigger succesfully written\n",
      "\n",
      "part 3\n",
      "encoding the neuron nr  128 to 191\n",
      "Checking and writing pattern startTrigger\n",
      "Current pattern lenght is 1\n",
      "Cumulative pattern lenght is 1. Remaining 32766 events\n",
      "Pattern startTrigger succesfully written\n",
      "\n",
      "Checking and writing pattern mergedPattern\n",
      "Current pattern lenght is 25111\n",
      "Cumulative pattern lenght is 25112. Remaining 7655 events\n",
      "Pattern mergedPattern succesfully written\n",
      "\n",
      "Checking and writing pattern stopTrigger\n",
      "Current pattern lenght is 1\n",
      "Cumulative pattern lenght is 25113. Remaining 7654 events\n",
      "Pattern stopTrigger succesfully written\n",
      "\n",
      "part 4\n",
      "encoding the neuron nr  192 to 255\n",
      "Checking and writing pattern startTrigger\n",
      "Current pattern lenght is 1\n",
      "Cumulative pattern lenght is 1. Remaining 32766 events\n",
      "Pattern startTrigger succesfully written\n",
      "\n",
      "Checking and writing pattern mergedPattern\n",
      "Current pattern lenght is 23496\n",
      "Cumulative pattern lenght is 23497. Remaining 9270 events\n",
      "Pattern mergedPattern succesfully written\n",
      "\n",
      "Checking and writing pattern stopTrigger\n",
      "Current pattern lenght is 1\n",
      "Cumulative pattern lenght is 23498. Remaining 9269 events\n",
      "Pattern stopTrigger succesfully written\n",
      "\n",
      "core 2\n",
      "part 1\n",
      "encoding the neuron nr  256 to 319\n",
      "Checking and writing pattern startTrigger\n",
      "Current pattern lenght is 1\n",
      "Cumulative pattern lenght is 1. Remaining 32766 events\n",
      "Pattern startTrigger succesfully written\n",
      "\n",
      "Checking and writing pattern mergedPattern\n",
      "Current pattern lenght is 17870\n",
      "Cumulative pattern lenght is 17871. Remaining 14896 events\n",
      "Pattern mergedPattern succesfully written\n",
      "\n",
      "Checking and writing pattern stopTrigger\n",
      "Current pattern lenght is 1\n",
      "Cumulative pattern lenght is 17872. Remaining 14895 events\n",
      "Pattern stopTrigger succesfully written\n",
      "\n",
      "part 2\n",
      "encoding the neuron nr  320 to 383\n",
      "Checking and writing pattern startTrigger\n",
      "Current pattern lenght is 1\n",
      "Cumulative pattern lenght is 1. Remaining 32766 events\n",
      "Pattern startTrigger succesfully written\n",
      "\n",
      "Checking and writing pattern mergedPattern\n",
      "Current pattern lenght is 20905\n",
      "Cumulative pattern lenght is 20906. Remaining 11861 events\n",
      "Pattern mergedPattern succesfully written\n",
      "\n",
      "Checking and writing pattern stopTrigger\n",
      "Current pattern lenght is 1\n",
      "Cumulative pattern lenght is 20907. Remaining 11860 events\n",
      "Pattern stopTrigger succesfully written\n",
      "\n",
      "part 3\n",
      "encoding the neuron nr  384 to 447\n",
      "Checking and writing pattern startTrigger\n",
      "Current pattern lenght is 1\n",
      "Cumulative pattern lenght is 1. Remaining 32766 events\n",
      "Pattern startTrigger succesfully written\n",
      "\n",
      "Checking and writing pattern mergedPattern\n",
      "Current pattern lenght is 25054\n",
      "Cumulative pattern lenght is 25055. Remaining 7712 events\n",
      "Pattern mergedPattern succesfully written\n",
      "\n",
      "Checking and writing pattern stopTrigger\n",
      "Current pattern lenght is 1\n",
      "Cumulative pattern lenght is 25056. Remaining 7711 events\n",
      "Pattern stopTrigger succesfully written\n",
      "\n",
      "part 4\n",
      "encoding the neuron nr  448 to 511\n",
      "Checking and writing pattern startTrigger\n",
      "Current pattern lenght is 1\n",
      "Cumulative pattern lenght is 1. Remaining 32766 events\n",
      "Pattern startTrigger succesfully written\n",
      "\n",
      "Checking and writing pattern mergedPattern\n",
      "Current pattern lenght is 25250\n",
      "Cumulative pattern lenght is 25251. Remaining 7516 events\n",
      "Pattern mergedPattern succesfully written\n",
      "\n",
      "Checking and writing pattern stopTrigger\n",
      "Current pattern lenght is 1\n",
      "Cumulative pattern lenght is 25252. Remaining 7515 events\n",
      "Pattern stopTrigger succesfully written\n",
      "\n",
      "core 3\n",
      "part 1\n",
      "encoding the neuron nr  512 to 575\n",
      "Checking and writing pattern startTrigger\n",
      "Current pattern lenght is 1\n",
      "Cumulative pattern lenght is 1. Remaining 32766 events\n",
      "Pattern startTrigger succesfully written\n",
      "\n",
      "Checking and writing pattern mergedPattern\n",
      "Current pattern lenght is 27518\n",
      "Cumulative pattern lenght is 27519. Remaining 5248 events\n",
      "Pattern mergedPattern succesfully written\n",
      "\n",
      "Checking and writing pattern stopTrigger\n",
      "Current pattern lenght is 1\n",
      "Cumulative pattern lenght is 27520. Remaining 5247 events\n",
      "Pattern stopTrigger succesfully written\n",
      "\n",
      "part 2\n",
      "encoding the neuron nr  576 to 639\n",
      "Checking and writing pattern startTrigger\n",
      "Current pattern lenght is 1\n",
      "Cumulative pattern lenght is 1. Remaining 32766 events\n",
      "Pattern startTrigger succesfully written\n",
      "\n",
      "Checking and writing pattern mergedPattern\n",
      "Current pattern lenght is 28503\n",
      "Cumulative pattern lenght is 28504. Remaining 4263 events\n",
      "Pattern mergedPattern succesfully written\n",
      "\n",
      "Checking and writing pattern stopTrigger\n",
      "Current pattern lenght is 1\n",
      "Cumulative pattern lenght is 28505. Remaining 4262 events\n",
      "Pattern stopTrigger succesfully written\n",
      "\n",
      "part 3\n",
      "encoding the neuron nr  640 to 703\n",
      "Checking and writing pattern startTrigger\n",
      "Current pattern lenght is 1\n",
      "Cumulative pattern lenght is 1. Remaining 32766 events\n",
      "Pattern startTrigger succesfully written\n",
      "\n",
      "Checking and writing pattern mergedPattern\n",
      "Current pattern lenght is 20427\n",
      "Cumulative pattern lenght is 20428. Remaining 12339 events\n",
      "Pattern mergedPattern succesfully written\n",
      "\n",
      "Checking and writing pattern stopTrigger\n",
      "Current pattern lenght is 1\n",
      "Cumulative pattern lenght is 20429. Remaining 12338 events\n",
      "Pattern stopTrigger succesfully written\n",
      "\n",
      "part 4\n",
      "encoding the neuron nr  704 to 767\n",
      "Checking and writing pattern startTrigger\n",
      "Current pattern lenght is 1\n",
      "Cumulative pattern lenght is 1. Remaining 32766 events\n",
      "Pattern startTrigger succesfully written\n",
      "\n",
      "Checking and writing pattern mergedPattern\n",
      "Current pattern lenght is 22915\n",
      "Cumulative pattern lenght is 22916. Remaining 9851 events\n",
      "Pattern mergedPattern succesfully written\n",
      "\n",
      "Checking and writing pattern stopTrigger\n",
      "Current pattern lenght is 1\n",
      "Cumulative pattern lenght is 22917. Remaining 9850 events\n",
      "Pattern stopTrigger succesfully written\n",
      "\n"
     ]
    }
   ],
   "source": [
    "\n",
    "tStart = 0\n",
    "tStop = 30 # lasts for 10 seconds\n",
    "\n",
    "all_inputNeuronList = []\n",
    "all_inputCoreList= []\n",
    "all_ts_list= []\n",
    "\n",
    "# a part = 64 neurons. a core = 4 parts. Reservoir = 3 cores.\n",
    "\n",
    "\n",
    "for core in [1, 2, 3]:\n",
    "    print('core', core)\n",
    "    for part in [1,2,3,4]:\n",
    "        print('part', part)\n",
    "\n",
    "        neuronInThisPart = np.arange((core-1)*256 + (part-1)*64, (core-1)*256 + (part)*64)\n",
    "\n",
    "        counter = 0 # count the number of neuron starting from this part\n",
    "\n",
    "        print('encoding the neuron nr ', (core-1)*256 + (part-1)*64, 'to',  (core-1)*256 + (part)*64 - 1)\n",
    "        listOfPatterns = []\n",
    "\n",
    "        for j in neuronInThisPart: \n",
    "\n",
    "            neuron_input_t = np.linspace(tStart, tStop, inputMat.shape[1])\n",
    "            neuron_input_y = inputMat[j, :]\n",
    "\n",
    "            input_event = DSG.InputPattern(name = \"input_event\", isiBase = in_5_0_P[\"isiBase\"])\n",
    "\n",
    "            input_event.threshold_encoder(virtualSourceCoreId = 0,\n",
    "                                      neuronAddressUpCH = counter + 128,  \n",
    "                                      neuronAddressDwCH =  counter + 192,  \n",
    "                                      coreDest = in_5_0_P[\"coreDest\"],   \n",
    "                                      threshold = 0.5,    \n",
    "                                      t = neuron_input_t,    \n",
    "                                      y = neuron_input_y,    \n",
    "                                      noiseVar = in_5_0_P[\"sig1Jitter\"],      \n",
    "                                      initDelay = in_5_0_P[\"sig1Delay\"])  \n",
    "\n",
    "\n",
    "            listOfPatterns.append(input_event)\n",
    "            counter += 1\n",
    "\n",
    "\n",
    "        tupleList = []\n",
    "\n",
    "        for pattern in listOfPatterns:\n",
    "            prevTime = 0\n",
    "            patternTuple = []\n",
    "            for event in pattern.eventList:\n",
    "                patternTuple.append([event.virtualSourceCoreId, event.neuronAddress, event.coreDest, event.time + prevTime])\n",
    "                prevTime += event.time\n",
    "            tupleList.extend(patternTuple)   \n",
    "\n",
    "        tupleList.sort(key=lambda myList: myList[3]) # sort based on absolute time     \n",
    "\n",
    "\n",
    "        diffList = [0]*len(tupleList)\n",
    "        diffList[0] = tupleList[0][3]\n",
    "        for i in np.arange(1, len(tupleList)):\n",
    "            diff = tupleList[i][3] - tupleList[i-1][3]\n",
    "            if diff <= 10:\n",
    "                diff = 10\n",
    "            diffList[i] = diff # convert absolute time back to relative time\n",
    "\n",
    "        mergedPattern = DSG.InputPattern(name = \"mergedPattern\", isiBase = in_5_0_P[\"isiBase\"])\n",
    "\n",
    "        for i in np.arange(len(tupleList)):\n",
    "            virtualSourceCoreId = tupleList[i][0]\n",
    "            neuronAddress = tupleList[i][1]\n",
    "            coreDest = tupleList[i][2]\n",
    "            time = diffList[i]/ 1e5 # change back to second\n",
    "            mergedPattern.single_event(virtualSourceCoreId, neuronAddress, coreDest, firePeriod = time)\n",
    "\n",
    "\n",
    "        # ====================== Write events to output file in cAER folder\n",
    "\n",
    "        # the output file that reford the spikes\n",
    "        fileName = \"/Users/liutianlin/Desktop/Academics/MINDS/neuromorphic/caer/myStimulus/train/\" + 'core' + str(core) + '_' + 'part' + str(part) + \".txt\"\n",
    "\n",
    "\n",
    "        DSG.write_to_file(*[startTrigger, mergedPattern, stopTrigger], fileName = fileName)\n",
    "\n",
    "        \n",
    "        \n",
    "        \n",
    "        \n",
    "        inputNeuronList = []\n",
    "        inputCoreList = []\n",
    "        for item in tupleList:\n",
    "            if (item[1] >= 128) and (item[1] <= 191) : # this is an exitatory neuron\n",
    "                inputNeuronList.append((part-1)*64 + item[1] - 128)\n",
    "                inputCoreList.append( core)\n",
    "            elif (item[1] >= 192) and (item[1] <= 255) :  # this is an inhi neuron\n",
    "                inputNeuronList.append((part-1)*64 + item[1] - 192)\n",
    "                inputCoreList.append(-core)\n",
    "            else:\n",
    "                print('sth is wrong!')\n",
    "\n",
    "#         inputCoreList = [core] * len(inputNeuronList) \n",
    "        ts_list = (np.array(np.cumsum(diffList)) - np.array(np.cumsum(diffList))[0]) * 10        \n",
    "        \n",
    "        all_inputNeuronList.extend(inputNeuronList)\n",
    "        all_inputCoreList.extend(inputCoreList)\n",
    "        all_ts_list.extend(ts_list)\n"
   ]
  },
  {
   "cell_type": "code",
   "execution_count": null,
   "metadata": {
    "collapsed": true
   },
   "outputs": [],
   "source": []
  },
  {
   "cell_type": "code",
   "execution_count": 5,
   "metadata": {},
   "outputs": [
    {
     "data": {
      "text/plain": [
       "288990"
      ]
     },
     "execution_count": 5,
     "metadata": {},
     "output_type": "execute_result"
    }
   ],
   "source": [
    "len(all_inputNeuronList)"
   ]
  },
  {
   "cell_type": "code",
   "execution_count": 6,
   "metadata": {},
   "outputs": [
    {
     "data": {
      "text/plain": [
       "288990"
      ]
     },
     "execution_count": 6,
     "metadata": {},
     "output_type": "execute_result"
    }
   ],
   "source": [
    "len(all_inputCoreList)"
   ]
  },
  {
   "cell_type": "code",
   "execution_count": 7,
   "metadata": {},
   "outputs": [
    {
     "data": {
      "text/plain": [
       "30646410.0"
      ]
     },
     "execution_count": 7,
     "metadata": {},
     "output_type": "execute_result"
    }
   ],
   "source": [
    "all_ts_list[-1]"
   ]
  },
  {
   "cell_type": "code",
   "execution_count": 8,
   "metadata": {
    "collapsed": true
   },
   "outputs": [],
   "source": [
    "inputSpikesAddress = '/Users/liutianlin/Desktop/Academics/MINDS/neuromorphic/reservoir_Demo/reservoirTraining/inputSpikes/'\n",
    "\n",
    "\n"
   ]
  },
  {
   "cell_type": "code",
   "execution_count": 9,
   "metadata": {
    "collapsed": true
   },
   "outputs": [],
   "source": [
    "np.savetxt(inputSpikesAddress + 'input_core_id.txt', all_inputCoreList, fmt='%i')\n",
    "np.savetxt(inputSpikesAddress + 'input_neuron_id.txt', all_inputNeuronList, fmt='%i')\n",
    "np.savetxt(inputSpikesAddress + 'input_ts.txt', all_ts_list, fmt='%i')   "
   ]
  },
  {
   "cell_type": "code",
   "execution_count": null,
   "metadata": {
    "collapsed": true
   },
   "outputs": [],
   "source": []
  },
  {
   "cell_type": "code",
   "execution_count": null,
   "metadata": {
    "collapsed": true
   },
   "outputs": [],
   "source": []
  },
  {
   "cell_type": "code",
   "execution_count": null,
   "metadata": {
    "collapsed": true
   },
   "outputs": [],
   "source": []
  },
  {
   "cell_type": "code",
   "execution_count": null,
   "metadata": {
    "collapsed": true
   },
   "outputs": [],
   "source": []
  },
  {
   "cell_type": "code",
   "execution_count": null,
   "metadata": {
    "collapsed": true
   },
   "outputs": [],
   "source": []
  },
  {
   "cell_type": "code",
   "execution_count": null,
   "metadata": {
    "collapsed": true
   },
   "outputs": [],
   "source": []
  },
  {
   "cell_type": "code",
   "execution_count": null,
   "metadata": {
    "collapsed": true
   },
   "outputs": [],
   "source": []
  },
  {
   "cell_type": "code",
   "execution_count": null,
   "metadata": {
    "collapsed": true
   },
   "outputs": [],
   "source": []
  },
  {
   "cell_type": "code",
   "execution_count": null,
   "metadata": {
    "collapsed": true
   },
   "outputs": [],
   "source": []
  },
  {
   "cell_type": "code",
   "execution_count": null,
   "metadata": {
    "collapsed": true
   },
   "outputs": [],
   "source": []
  },
  {
   "cell_type": "code",
   "execution_count": null,
   "metadata": {
    "collapsed": true
   },
   "outputs": [],
   "source": []
  },
  {
   "cell_type": "code",
   "execution_count": 22,
   "metadata": {},
   "outputs": [
    {
     "name": "stdout",
     "output_type": "stream",
     "text": [
      "core 1\n",
      "part 1\n",
      "encoding the neuron nr  0 to 63\n"
     ]
    }
   ],
   "source": [
    "\n",
    "tStart = 0\n",
    "tStop = 30 # lasts for 10 seconds\n",
    "\n",
    "\n",
    "# a part = 64 neurons. a core = 4 parts. Reservoir = 3 cores.\n",
    "\n",
    "\n",
    "core = 1\n",
    "print('core', core)\n",
    "part = 1\n",
    "print('part', part)\n",
    "\n",
    "neuronInThisPart = np.arange((core-1)*256 + (part-1)*64, (core-1)*256 + (part)*64)\n",
    "\n",
    "counter = 0 # count the number of neuron starting from this part\n",
    "\n",
    "print('encoding the neuron nr ', (core-1)*256 + (part-1)*64, 'to',  (core-1)*256 + (part)*64 - 1)\n",
    "listOfPatterns = []\n",
    "\n",
    "for j in neuronInThisPart: \n",
    "\n",
    "    neuron_input_t = np.linspace(tStart, tStop, inputMat.shape[1])\n",
    "    neuron_input_y = inputMat[j, :]\n",
    "\n",
    "    input_event = DSG.InputPattern(name = \"input_event\", isiBase = in_5_0_P[\"isiBase\"])\n",
    "\n",
    "    input_event.threshold_encoder(virtualSourceCoreId = 0,\n",
    "                              neuronAddressUpCH = counter + 128,  \n",
    "                              neuronAddressDwCH =  counter + 192,  \n",
    "                              coreDest = in_5_0_P[\"coreDest\"],   \n",
    "                              threshold = 0.5,    \n",
    "                              t = neuron_input_t,    \n",
    "                              y = neuron_input_y,    \n",
    "                              noiseVar = in_5_0_P[\"sig1Jitter\"],      \n",
    "                              initDelay = in_5_0_P[\"sig1Delay\"])  \n",
    "\n",
    "\n",
    "    listOfPatterns.append(input_event)\n",
    "    counter += 1\n",
    "\n",
    "\n",
    "tupleList = []\n",
    "\n",
    "for pattern in listOfPatterns:\n",
    "    prevTime = 0\n",
    "    patternTuple = []\n",
    "    for event in pattern.eventList:\n",
    "        patternTuple.append([event.virtualSourceCoreId, event.neuronAddress, event.coreDest, event.time + prevTime])\n",
    "        prevTime += event.time\n",
    "    tupleList.extend(patternTuple)   \n",
    "\n",
    "tupleList.sort(key=lambda myList: myList[3]) # sort based on absolute time     \n",
    "\n",
    "\n",
    "diffList = [0]*len(tupleList)\n",
    "diffList[0] = tupleList[0][3]\n",
    "for i in np.arange(1, len(tupleList)):\n",
    "    diff = tupleList[i][3] - tupleList[i-1][3]\n",
    "    if diff <= 10:\n",
    "        diff = 10\n",
    "    diffList[i] = diff # convert absolute time back to relative time\n",
    "\n",
    "mergedPattern = DSG.InputPattern(name = \"mergedPattern\", isiBase = in_5_0_P[\"isiBase\"])\n",
    "\n",
    "for i in np.arange(len(tupleList)):\n",
    "    virtualSourceCoreId = tupleList[i][0]\n",
    "    neuronAddress = tupleList[i][1]\n",
    "    coreDest = tupleList[i][2]\n",
    "    time = diffList[i]/ 1e5 # change back to second\n",
    "    mergedPattern.single_event(virtualSourceCoreId, neuronAddress, coreDest, firePeriod = time)\n",
    "\n",
    "    \n",
    "    \n",
    "    \n",
    "inputNeuronList = []\n",
    "for item in tupleList:\n",
    "    if (item[1] >= 128) and (item[1] <= 191) : # this is an exitatory neuron\n",
    "        inputNeuronList.append((part-1)*64 + item[1] - 128)\n",
    "    elif (item[1] >= 192) and (item[1] <= 255) :  # this is an inhi neuron\n",
    "        inputNeuronList.append((part-1)*64 + item[1] - 192)\n",
    "    else:\n",
    "        print('sth is wrong!')\n",
    "\n",
    "inputCoreList = [core] * len(inputNeuronList) \n",
    "ts_list = (np.array(np.cumsum(diffList)) - np.array(np.cumsum(diffList))[0]) * 10        "
   ]
  },
  {
   "cell_type": "code",
   "execution_count": 25,
   "metadata": {},
   "outputs": [
    {
     "data": {
      "text/plain": [
       "23757"
      ]
     },
     "execution_count": 25,
     "metadata": {},
     "output_type": "execute_result"
    }
   ],
   "source": [
    "len(inputCoreList)"
   ]
  },
  {
   "cell_type": "code",
   "execution_count": 26,
   "metadata": {},
   "outputs": [
    {
     "data": {
      "text/plain": [
       "23757"
      ]
     },
     "execution_count": 26,
     "metadata": {},
     "output_type": "execute_result"
    }
   ],
   "source": [
    "len(inputCoreList)"
   ]
  },
  {
   "cell_type": "code",
   "execution_count": 38,
   "metadata": {},
   "outputs": [
    {
     "data": {
      "text/plain": [
       "array([0.000000e+00, 1.000000e+02, 2.000000e+02, ..., 3.062645e+07,\n",
       "       3.062741e+07, 3.064641e+07])"
      ]
     },
     "execution_count": 38,
     "metadata": {},
     "output_type": "execute_result"
    }
   ],
   "source": [
    "ts_list"
   ]
  },
  {
   "cell_type": "code",
   "execution_count": 42,
   "metadata": {},
   "outputs": [
    {
     "data": {
      "text/plain": [
       "0.0001"
      ]
     },
     "execution_count": 42,
     "metadata": {},
     "output_type": "execute_result"
    }
   ],
   "source": [
    "1e-4"
   ]
  },
  {
   "cell_type": "code",
   "execution_count": 41,
   "metadata": {},
   "outputs": [
    {
     "data": {
      "text/plain": [
       "100.0"
      ]
     },
     "execution_count": 41,
     "metadata": {},
     "output_type": "execute_result"
    }
   ],
   "source": [
    "1.000000e+02"
   ]
  },
  {
   "cell_type": "code",
   "execution_count": null,
   "metadata": {
    "collapsed": true
   },
   "outputs": [],
   "source": []
  }
 ],
 "metadata": {
  "kernelspec": {
   "display_name": "Python 3",
   "language": "python",
   "name": "python3"
  },
  "language_info": {
   "codemirror_mode": {
    "name": "ipython",
    "version": 3
   },
   "file_extension": ".py",
   "mimetype": "text/x-python",
   "name": "python",
   "nbconvert_exporter": "python",
   "pygments_lexer": "ipython3",
   "version": "3.6.4"
  }
 },
 "nbformat": 4,
 "nbformat_minor": 2
}
