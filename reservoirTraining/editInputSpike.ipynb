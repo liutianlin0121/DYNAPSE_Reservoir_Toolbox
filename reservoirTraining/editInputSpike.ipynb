{
 "cells": [
  {
   "cell_type": "code",
   "execution_count": 1,
   "metadata": {
    "collapsed": true
   },
   "outputs": [],
   "source": [
    "import re\n",
    "import numpy as np\n",
    "\n"
   ]
  },
  {
   "cell_type": "code",
   "execution_count": 2,
   "metadata": {
    "collapsed": true
   },
   "outputs": [],
   "source": [
    "\n",
    "lines = [line.rstrip('\\n') for line in open('inputWeightsRoberto.txt')]\n"
   ]
  },
  {
   "cell_type": "code",
   "execution_count": 5,
   "metadata": {},
   "outputs": [],
   "source": [
    "\n",
    "with open('somefile.txt', 'w+') as the_file:\n",
    "    for i in np.arange(len(lines)):\n",
    "        if len(lines[i]) == 77:\n",
    "            the_file.write(lines[i] + '\\n')\n",
    "        else:\n",
    "            virtualNeuron = int(lines[i].split(\"C00N\", 1)[1].split(\"->\", 1)[0])\n",
    "            orig = re.findall(r\"[\\w']+\", lines[i])\n",
    "\n",
    "            if  virtualNeuron == 20: # exitatory\n",
    "#                 newLine = orig[0] + '->' + '3' + '-' + orig[2] + '-' + orig[3]\n",
    "                newLine = orig[0] + '->' + '3' + '-' + '7' + '-' + orig[3]\n",
    "                \n",
    "            elif virtualNeuron == 21: # inh\n",
    "#                 newLine = orig[0] + '->' + '1' + '-' + orig[2] + '-' + orig[3]\n",
    "                newLine = orig[0] + '->' + '1' + '-' + '7' + '-' + orig[3]\n",
    "            else: \n",
    "                print('something is wrong!')\n",
    "            \n",
    "            the_file.write(newLine + '\\n')\n",
    "            \n",
    "            "
   ]
  },
  {
   "cell_type": "code",
   "execution_count": 4,
   "metadata": {},
   "outputs": [
    {
     "data": {
      "text/plain": [
       "'U04C00N021->1-1-U00C03N255'"
      ]
     },
     "execution_count": 4,
     "metadata": {},
     "output_type": "execute_result"
    }
   ],
   "source": [
    "newLine"
   ]
  },
  {
   "cell_type": "code",
   "execution_count": 4,
   "metadata": {},
   "outputs": [
    {
     "data": {
      "text/plain": [
       "'U04C00N021->1-1-U00C03N255'"
      ]
     },
     "execution_count": 4,
     "metadata": {},
     "output_type": "execute_result"
    }
   ],
   "source": [
    "newLine"
   ]
  },
  {
   "cell_type": "code",
   "execution_count": 5,
   "metadata": {},
   "outputs": [
    {
     "data": {
      "text/plain": [
       "'U04C00N021'"
      ]
     },
     "execution_count": 5,
     "metadata": {},
     "output_type": "execute_result"
    }
   ],
   "source": [
    "orig[0]"
   ]
  },
  {
   "cell_type": "code",
   "execution_count": 6,
   "metadata": {},
   "outputs": [
    {
     "data": {
      "text/plain": [
       "'1'"
      ]
     },
     "execution_count": 6,
     "metadata": {},
     "output_type": "execute_result"
    }
   ],
   "source": [
    "orig[2]"
   ]
  },
  {
   "cell_type": "code",
   "execution_count": 7,
   "metadata": {},
   "outputs": [
    {
     "data": {
      "text/plain": [
       "'1'"
      ]
     },
     "execution_count": 7,
     "metadata": {},
     "output_type": "execute_result"
    }
   ],
   "source": [
    "orig[2]"
   ]
  },
  {
   "cell_type": "code",
   "execution_count": null,
   "metadata": {
    "collapsed": true
   },
   "outputs": [],
   "source": []
  }
 ],
 "metadata": {
  "kernelspec": {
   "display_name": "Python 3",
   "language": "python",
   "name": "python3"
  },
  "language_info": {
   "codemirror_mode": {
    "name": "ipython",
    "version": 3
   },
   "file_extension": ".py",
   "mimetype": "text/x-python",
   "name": "python",
   "nbconvert_exporter": "python",
   "pygments_lexer": "ipython3",
   "version": "3.6.4"
  }
 },
 "nbformat": 4,
 "nbformat_minor": 2
}
