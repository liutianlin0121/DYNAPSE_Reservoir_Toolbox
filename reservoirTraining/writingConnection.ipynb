{
 "cells": [
  {
   "cell_type": "code",
   "execution_count": 10,
   "metadata": {
    "collapsed": true
   },
   "outputs": [],
   "source": [
    "import numpy as np"
   ]
  },
  {
   "cell_type": "code",
   "execution_count": 11,
   "metadata": {},
   "outputs": [],
   "source": [
    "connections = []\n",
    "for j in np.arange(128, 192):\n",
    "    j1 = j   # exi neuron id\n",
    "    senderIDExi =  'U04C00N' + str(j1) \n",
    "    \n",
    "    j2 = j + 64 # inh neuron id\n",
    "    senderIDInh =  'U04C00N' + str(j2)\n",
    "    \n",
    "    # loop through each core in reservoir\n",
    "    for i in [1,2,3]: \n",
    "        \n",
    "        receiverID_part1 = 'U00C0' + str(i) + 'N' + str(j1 - 128).zfill(3)    # 1-4 rows of a core: neuron 0 - 63\n",
    "        receiverID_part2 = 'U00C0' + str(i) + 'N' + str(j1 - 128 + 64).zfill(3)    # 5-8 rows of a core: neuron 64 - 127\n",
    "        receiverID_part3 = 'U00C0' + str(i) + 'N' + str(j1 - 128 + 128).zfill(3)  # 9-12 rows of a core: neuron 128 - 191 \n",
    "        receiverID_part4 = 'U00C0' + str(i) + 'N' + str(j1 - 128 + 192).zfill(3)  # 13-16 rows of a core: neuron 192 - 256\n",
    "\n",
    "        exiConnectionPart1 = senderIDExi + '->2-2-' + receiverID_part1 # slow excitatory, 1 CAM slot        \n",
    "        inhConnectionPart1 = senderIDInh + '->0-2-' + receiverID_part1 # slow inhibitory, 1 CAM slot\n",
    "        \n",
    "        exiConnectionPart2 = senderIDExi + '->2-2-' + receiverID_part2 # slow excitatory, 1 CAM slot        \n",
    "        inhConnectionPart2 = senderIDInh + '->0-2-' + receiverID_part2 # slow inhibitory, 1 CAM slot\n",
    "        \n",
    "        exiConnectionPart3 = senderIDExi + '->2-2-' + receiverID_part3 # slow excitatory, 1 CAM slot        \n",
    "        inhConnectionPart3 = senderIDInh + '->0-2-' + receiverID_part3 # slow inhibitory, 1 CAM slot\n",
    "        \n",
    "        exiConnectionPart4 = senderIDExi + '->2-2-' + receiverID_part4 # slow excitatory, 1 CAM slot        \n",
    "        inhConnectionPart4 = senderIDInh + '->0-2-' + receiverID_part4 # slow inhibitory, 1 CAM slot\n",
    "    \n",
    "        connections.append(exiConnectionPart1)\n",
    "        connections.append(exiConnectionPart2)\n",
    "        connections.append(exiConnectionPart3)\n",
    "        connections.append(exiConnectionPart4)\n",
    "        connections.append(inhConnectionPart1)\n",
    "        connections.append(inhConnectionPart2)\n",
    "        connections.append(inhConnectionPart3)\n",
    "        connections.append(inhConnectionPart4)\n",
    "        \n",
    "        \n",
    "        "
   ]
  },
  {
   "cell_type": "code",
   "execution_count": 12,
   "metadata": {
    "collapsed": true
   },
   "outputs": [],
   "source": [
    "with open('inputConnectionForTraining.txt', 'w') as f:\n",
    "    for item in connections:\n",
    "        f.write(\"%s\\n\" % item)"
   ]
  },
  {
   "cell_type": "code",
   "execution_count": 5,
   "metadata": {},
   "outputs": [
    {
     "data": {
      "text/plain": [
       "1536"
      ]
     },
     "execution_count": 5,
     "metadata": {},
     "output_type": "execute_result"
    }
   ],
   "source": [
    "len(connections)"
   ]
  },
  {
   "cell_type": "code",
   "execution_count": 9,
   "metadata": {},
   "outputs": [
    {
     "data": {
      "text/plain": [
       "1536"
      ]
     },
     "execution_count": 9,
     "metadata": {},
     "output_type": "execute_result"
    }
   ],
   "source": [
    "256*3*2"
   ]
  },
  {
   "cell_type": "code",
   "execution_count": 6,
   "metadata": {
    "collapsed": true
   },
   "outputs": [],
   "source": [
    "visual_connections = []\n",
    "for j in np.arange(128, 192):\n",
    "    j1 = j   # exi neuron id\n",
    "    senderIDExi =  'U04C00N' + str(j1) \n",
    "    \n",
    "    j2 = j + 64 # inh neuron id\n",
    "    senderIDInh =  'U04C00N' + str(j2)\n",
    "    \n",
    "\n",
    "    visual1 = senderIDExi + '->3-1-U00C00N104'         \n",
    "    visual2 = senderIDExi + '->3-1-U00C00N105' \n",
    "    visual3 = senderIDExi + '->3-1-U00C00N120'   \n",
    "    visual4 = senderIDExi + '->3-1-U00C00N121' \n",
    "    \n",
    "    visual5 = senderIDInh + '->3-1-U00C00N106'       \n",
    "    visual6 = senderIDInh + '->3-1-U00C00N107'\n",
    "    visual7 = senderIDInh + '->3-1-U00C00N122'    \n",
    "    visual8 = senderIDInh + '->3-1-U00C00N123' \n",
    "\n",
    "    visual_connections.append(visual1)\n",
    "    visual_connections.append(visual2)\n",
    "    visual_connections.append(visual3)\n",
    "    visual_connections.append(visual4)\n",
    "    visual_connections.append(visual5)\n",
    "    visual_connections.append(visual6)\n",
    "    visual_connections.append(visual7)\n",
    "    visual_connections.append(visual8)\n",
    "\n"
   ]
  },
  {
   "cell_type": "code",
   "execution_count": 7,
   "metadata": {
    "collapsed": true
   },
   "outputs": [],
   "source": [
    "with open('visual_ConnectionForTraining.txt', 'w') as f:\n",
    "    for item in visual_connections:\n",
    "        f.write(\"%s\\n\" % item)"
   ]
  },
  {
   "cell_type": "code",
   "execution_count": null,
   "metadata": {
    "collapsed": true
   },
   "outputs": [],
   "source": []
  }
 ],
 "metadata": {
  "kernelspec": {
   "display_name": "Python 3",
   "language": "python",
   "name": "python3"
  },
  "language_info": {
   "codemirror_mode": {
    "name": "ipython",
    "version": 3
   },
   "file_extension": ".py",
   "mimetype": "text/x-python",
   "name": "python",
   "nbconvert_exporter": "python",
   "pygments_lexer": "ipython3",
   "version": "3.6.4"
  }
 },
 "nbformat": 4,
 "nbformat_minor": 2
}
